{
 "cells": [
  {
   "cell_type": "markdown",
   "id": "89827a44-82db-4ab1-8abb-0c3d2b429770",
   "metadata": {},
   "source": [
    "# Data Science Tools and Ecosystem"
   ]
  },
  {
   "cell_type": "markdown",
   "id": "fe198a7d-786f-4dd8-a8af-b21c1718ec8a",
   "metadata": {},
   "source": [
    "In this notebook, Data Science Tools and Ecosystem are summarized."
   ]
  },
  {
   "cell_type": "markdown",
   "id": "cf128828-6c8e-409b-b535-e71b54e66a2d",
   "metadata": {},
   "source": [
    "**Objectives:**\n",
    "+ List popular languages that Data Scientists use\n",
    "+ List commonly used libraries used by Data Scientists\n",
    "+ List Data Science Tools"
   ]
  },
  {
   "cell_type": "markdown",
   "id": "2e14e5b1-3926-48dd-8ce9-d298c989efeb",
   "metadata": {},
   "source": [
    "Some of the popular languages that Data Scientists use are:\n",
    "1. Python\n",
    "2. R\n",
    "3. Julia\n",
    "4. SQL"
   ]
  },
  {
   "cell_type": "markdown",
   "id": "463b50a5-abe7-42ab-b604-59c1bdd52a7d",
   "metadata": {},
   "source": [
    "Some of the commonly used libraries used by Data Scientists include:\n",
    "1. Numpy\n",
    "2. Pandas\n",
    "3. Scikit Learn\n",
    "4. Matplotlib\n",
    "5. Seaborn"
   ]
  },
  {
   "cell_type": "markdown",
   "id": "19dae502-2b14-4f7e-969f-07c5a5e251db",
   "metadata": {},
   "source": [
    "|Data Science Tools|\n",
    "|------------------|\n",
    "|Jupyter Notebook in Anaconda|\n",
    "|RStudio|\n",
    "|JupyterLite|"
   ]
  },
  {
   "cell_type": "markdown",
   "id": "484623ff-07d6-40e6-8500-306cc2bb6497",
   "metadata": {},
   "source": [
    "### Below are a few examples of evaluating arithmetic expressions in Python\n",
    "1. 1+2\n",
    "2. 3-2\n",
    "3. 3*3\n",
    "4. 4/2\n",
    "5. 5%2\n",
    "6. 2**3"
   ]
  },
  {
   "cell_type": "code",
   "execution_count": 15,
   "id": "0a2380fd-ca80-4ed0-b21f-e87062f3d780",
   "metadata": {},
   "outputs": [
    {
     "data": {
      "text/plain": [
       "17"
      ]
     },
     "execution_count": 15,
     "metadata": {},
     "output_type": "execute_result"
    }
   ],
   "source": [
    "#This a simple arithmetic expression to mutiply then add integers\n",
    "(3*4)+5"
   ]
  },
  {
   "cell_type": "code",
   "execution_count": 17,
   "id": "b3b07d94-dc8e-4264-9266-6105c91d8ec3",
   "metadata": {},
   "outputs": [
    {
     "data": {
      "text/plain": [
       "3.3333333333333335"
      ]
     },
     "execution_count": 17,
     "metadata": {},
     "output_type": "execute_result"
    }
   ],
   "source": [
    "#This will convert 200 minutes to hours by diving by 60\n",
    "200/60"
   ]
  },
  {
   "cell_type": "markdown",
   "id": "a6c99826-c07a-420e-bd6d-19f1446b3da8",
   "metadata": {},
   "source": [
    "## Author"
   ]
  },
  {
   "cell_type": "code",
   "execution_count": null,
   "id": "3357eea5-71b7-4bff-95e4-925ddc565b5d",
   "metadata": {},
   "outputs": [],
   "source": []
  }
 ],
 "metadata": {
  "kernelspec": {
   "display_name": "Python 3 (ipykernel)",
   "language": "python",
   "name": "python3"
  },
  "language_info": {
   "codemirror_mode": {
    "name": "ipython",
    "version": 3
   },
   "file_extension": ".py",
   "mimetype": "text/x-python",
   "name": "python",
   "nbconvert_exporter": "python",
   "pygments_lexer": "ipython3",
   "version": "3.12.7"
  }
 },
 "nbformat": 4,
 "nbformat_minor": 5
}
